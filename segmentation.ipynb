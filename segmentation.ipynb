{
 "cells": [
  {
   "cell_type": "code",
   "execution_count": 28,
   "id": "7a5c72c9",
   "metadata": {},
   "outputs": [],
   "source": [
    "import pandas as pd"
   ]
  },
  {
   "cell_type": "code",
   "execution_count": 29,
   "id": "5cac2621",
   "metadata": {},
   "outputs": [],
   "source": [
    "import numpy as np"
   ]
  },
  {
   "cell_type": "code",
   "execution_count": 30,
   "id": "cfc5d412",
   "metadata": {},
   "outputs": [],
   "source": [
    "df = pd.read_excel('combined_customer_data.xlsx', sheet_name='Sheet1')"
   ]
  },
  {
   "cell_type": "code",
   "execution_count": 33,
   "id": "8da9f128",
   "metadata": {},
   "outputs": [
    {
     "data": {
      "text/html": [
       "<div>\n",
       "<style scoped>\n",
       "    .dataframe tbody tr th:only-of-type {\n",
       "        vertical-align: middle;\n",
       "    }\n",
       "\n",
       "    .dataframe tbody tr th {\n",
       "        vertical-align: top;\n",
       "    }\n",
       "\n",
       "    .dataframe thead th {\n",
       "        text-align: right;\n",
       "    }\n",
       "</style>\n",
       "<table border=\"1\" class=\"dataframe\">\n",
       "  <thead>\n",
       "    <tr style=\"text-align: right;\">\n",
       "      <th></th>\n",
       "      <th>Transaction Cost</th>\n",
       "      <th>Unit Pack Size</th>\n",
       "      <th>Purchase Type</th>\n",
       "      <th>Product Name</th>\n",
       "      <th>Category</th>\n",
       "    </tr>\n",
       "  </thead>\n",
       "  <tbody>\n",
       "    <tr>\n",
       "      <th>0</th>\n",
       "      <td>26112</td>\n",
       "      <td>100</td>\n",
       "      <td>Unit</td>\n",
       "      <td>Noodles</td>\n",
       "      <td>Noodles</td>\n",
       "    </tr>\n",
       "    <tr>\n",
       "      <th>1</th>\n",
       "      <td>55845</td>\n",
       "      <td>500</td>\n",
       "      <td>Carton</td>\n",
       "      <td>Macaroni Cavatto</td>\n",
       "      <td>Pasta</td>\n",
       "    </tr>\n",
       "    <tr>\n",
       "      <th>2</th>\n",
       "      <td>5700</td>\n",
       "      <td>200</td>\n",
       "      <td>Unit</td>\n",
       "      <td>Poundo Yam</td>\n",
       "      <td>Ball Foods</td>\n",
       "    </tr>\n",
       "    <tr>\n",
       "      <th>3</th>\n",
       "      <td>42420</td>\n",
       "      <td>100</td>\n",
       "      <td>Unit</td>\n",
       "      <td>Spaghetini</td>\n",
       "      <td>Pasta</td>\n",
       "    </tr>\n",
       "    <tr>\n",
       "      <th>4</th>\n",
       "      <td>9174</td>\n",
       "      <td>50</td>\n",
       "      <td>Unit</td>\n",
       "      <td>Garri</td>\n",
       "      <td>Ball Foods</td>\n",
       "    </tr>\n",
       "  </tbody>\n",
       "</table>\n",
       "</div>"
      ],
      "text/plain": [
       "   Transaction Cost  Unit Pack Size Purchase Type       Product Name  \\\n",
       "0             26112             100          Unit            Noodles   \n",
       "1             55845             500        Carton  Macaroni Cavatto    \n",
       "2              5700             200          Unit         Poundo Yam   \n",
       "3             42420             100          Unit         Spaghetini   \n",
       "4              9174              50          Unit              Garri   \n",
       "\n",
       "     Category  \n",
       "0     Noodles  \n",
       "1       Pasta  \n",
       "2  Ball Foods  \n",
       "3       Pasta  \n",
       "4  Ball Foods  "
      ]
     },
     "execution_count": 33,
     "metadata": {},
     "output_type": "execute_result"
    }
   ],
   "source": [
    "df.head()"
   ]
  },
  {
   "cell_type": "code",
   "execution_count": 32,
   "id": "ee9305cb",
   "metadata": {},
   "outputs": [],
   "source": [
    "df = df.drop(columns=['First Name', 'Last Name', 'Customer ID','Age','Gender','State'],axis=1)"
   ]
  },
  {
   "cell_type": "code",
   "execution_count": 34,
   "id": "f184c73b",
   "metadata": {},
   "outputs": [
    {
     "data": {
      "text/html": [
       "<div>\n",
       "<style scoped>\n",
       "    .dataframe tbody tr th:only-of-type {\n",
       "        vertical-align: middle;\n",
       "    }\n",
       "\n",
       "    .dataframe tbody tr th {\n",
       "        vertical-align: top;\n",
       "    }\n",
       "\n",
       "    .dataframe thead th {\n",
       "        text-align: right;\n",
       "    }\n",
       "</style>\n",
       "<table border=\"1\" class=\"dataframe\">\n",
       "  <thead>\n",
       "    <tr style=\"text-align: right;\">\n",
       "      <th></th>\n",
       "      <th>Transaction Cost</th>\n",
       "      <th>Unit Pack Size</th>\n",
       "      <th>Purchase Type</th>\n",
       "      <th>Product Name</th>\n",
       "      <th>Category</th>\n",
       "    </tr>\n",
       "  </thead>\n",
       "  <tbody>\n",
       "    <tr>\n",
       "      <th>0</th>\n",
       "      <td>26112</td>\n",
       "      <td>100</td>\n",
       "      <td>Unit</td>\n",
       "      <td>Noodles</td>\n",
       "      <td>Noodles</td>\n",
       "    </tr>\n",
       "    <tr>\n",
       "      <th>1</th>\n",
       "      <td>55845</td>\n",
       "      <td>500</td>\n",
       "      <td>Carton</td>\n",
       "      <td>Macaroni Cavatto</td>\n",
       "      <td>Pasta</td>\n",
       "    </tr>\n",
       "    <tr>\n",
       "      <th>2</th>\n",
       "      <td>5700</td>\n",
       "      <td>200</td>\n",
       "      <td>Unit</td>\n",
       "      <td>Poundo Yam</td>\n",
       "      <td>Ball Foods</td>\n",
       "    </tr>\n",
       "    <tr>\n",
       "      <th>3</th>\n",
       "      <td>42420</td>\n",
       "      <td>100</td>\n",
       "      <td>Unit</td>\n",
       "      <td>Spaghetini</td>\n",
       "      <td>Pasta</td>\n",
       "    </tr>\n",
       "    <tr>\n",
       "      <th>4</th>\n",
       "      <td>9174</td>\n",
       "      <td>50</td>\n",
       "      <td>Unit</td>\n",
       "      <td>Garri</td>\n",
       "      <td>Ball Foods</td>\n",
       "    </tr>\n",
       "  </tbody>\n",
       "</table>\n",
       "</div>"
      ],
      "text/plain": [
       "   Transaction Cost  Unit Pack Size Purchase Type       Product Name  \\\n",
       "0             26112             100          Unit            Noodles   \n",
       "1             55845             500        Carton  Macaroni Cavatto    \n",
       "2              5700             200          Unit         Poundo Yam   \n",
       "3             42420             100          Unit         Spaghetini   \n",
       "4              9174              50          Unit              Garri   \n",
       "\n",
       "     Category  \n",
       "0     Noodles  \n",
       "1       Pasta  \n",
       "2  Ball Foods  \n",
       "3       Pasta  \n",
       "4  Ball Foods  "
      ]
     },
     "execution_count": 34,
     "metadata": {},
     "output_type": "execute_result"
    }
   ],
   "source": [
    "df.head()"
   ]
  },
  {
   "cell_type": "code",
   "execution_count": 35,
   "id": "a595dfe4",
   "metadata": {},
   "outputs": [],
   "source": [
    "from sklearn.model_selection import train_test_split\n",
    "x_train, x_test = train_test_split(df, test_size=0.2, random_state=42)"
   ]
  },
  {
   "cell_type": "code",
   "execution_count": 36,
   "id": "f23de130",
   "metadata": {},
   "outputs": [],
   "source": [
    "from feature_engine.encoding import OrdinalEncoder\n"
   ]
  },
  {
   "cell_type": "code",
   "execution_count": 37,
   "id": "eaf1a6e2",
   "metadata": {},
   "outputs": [],
   "source": [
    "ord = OrdinalEncoder(\n",
    "    encoding_method='arbitrary',variables=['Purchase Type','Product Name','Category'])"
   ]
  },
  {
   "cell_type": "code",
   "execution_count": 38,
   "id": "cd743da0",
   "metadata": {},
   "outputs": [],
   "source": [
    "from sklearn.model_selection import train_test_split\n",
    "from sklearn.preprocessing import StandardScaler"
   ]
  },
  {
   "cell_type": "code",
   "execution_count": 39,
   "id": "7246ff19",
   "metadata": {},
   "outputs": [
    {
     "data": {
      "text/html": [
       "<div>\n",
       "<style scoped>\n",
       "    .dataframe tbody tr th:only-of-type {\n",
       "        vertical-align: middle;\n",
       "    }\n",
       "\n",
       "    .dataframe tbody tr th {\n",
       "        vertical-align: top;\n",
       "    }\n",
       "\n",
       "    .dataframe thead th {\n",
       "        text-align: right;\n",
       "    }\n",
       "</style>\n",
       "<table border=\"1\" class=\"dataframe\">\n",
       "  <thead>\n",
       "    <tr style=\"text-align: right;\">\n",
       "      <th></th>\n",
       "      <th>Transaction Cost</th>\n",
       "      <th>Unit Pack Size</th>\n",
       "      <th>Purchase Type</th>\n",
       "      <th>Product Name</th>\n",
       "      <th>Category</th>\n",
       "    </tr>\n",
       "  </thead>\n",
       "  <tbody>\n",
       "    <tr>\n",
       "      <th>2880</th>\n",
       "      <td>41250</td>\n",
       "      <td>500</td>\n",
       "      <td>Unit</td>\n",
       "      <td>Garri</td>\n",
       "      <td>Ball Foods</td>\n",
       "    </tr>\n",
       "    <tr>\n",
       "      <th>163</th>\n",
       "      <td>18635</td>\n",
       "      <td>500</td>\n",
       "      <td>Unit</td>\n",
       "      <td>Poundo Yam</td>\n",
       "      <td>Ball Foods</td>\n",
       "    </tr>\n",
       "    <tr>\n",
       "      <th>1933</th>\n",
       "      <td>36500</td>\n",
       "      <td>500</td>\n",
       "      <td>Unit</td>\n",
       "      <td>Garri</td>\n",
       "      <td>Ball Foods</td>\n",
       "    </tr>\n",
       "    <tr>\n",
       "      <th>252</th>\n",
       "      <td>46134</td>\n",
       "      <td>100</td>\n",
       "      <td>Carton</td>\n",
       "      <td>Noodles</td>\n",
       "      <td>Noodles</td>\n",
       "    </tr>\n",
       "    <tr>\n",
       "      <th>1820</th>\n",
       "      <td>2630</td>\n",
       "      <td>50</td>\n",
       "      <td>Unit</td>\n",
       "      <td>Garri</td>\n",
       "      <td>Ball Foods</td>\n",
       "    </tr>\n",
       "  </tbody>\n",
       "</table>\n",
       "</div>"
      ],
      "text/plain": [
       "      Transaction Cost  Unit Pack Size Purchase Type Product Name    Category\n",
       "2880             41250             500          Unit        Garri  Ball Foods\n",
       "163              18635             500          Unit   Poundo Yam  Ball Foods\n",
       "1933             36500             500          Unit        Garri  Ball Foods\n",
       "252              46134             100        Carton      Noodles     Noodles\n",
       "1820              2630              50          Unit        Garri  Ball Foods"
      ]
     },
     "execution_count": 39,
     "metadata": {},
     "output_type": "execute_result"
    }
   ],
   "source": [
    "x_train.head()"
   ]
  },
  {
   "cell_type": "code",
   "execution_count": 40,
   "id": "27882ea2",
   "metadata": {},
   "outputs": [],
   "source": [
    "x_train_fe = ord.fit_transform(x_train)\n",
    "x_test_fe = ord.transform(x_test)"
   ]
  },
  {
   "cell_type": "code",
   "execution_count": 41,
   "id": "5714614f",
   "metadata": {},
   "outputs": [
    {
     "data": {
      "text/plain": [
       "{'Purchase Type': {'Unit': 0, 'Carton': 1},\n",
       " 'Product Name': {'Garri': 0,\n",
       "  'Poundo Yam': 1,\n",
       "  'Noodles': 2,\n",
       "  'Macaroni Cavatto ': 3,\n",
       "  'Spaghetini': 4,\n",
       "  'Spaghetti': 5},\n",
       " 'Category': {'Ball Foods': 0, 'Noodles': 1, 'Pasta': 2}}"
      ]
     },
     "execution_count": 41,
     "metadata": {},
     "output_type": "execute_result"
    }
   ],
   "source": [
    "ord.encoder_dict_"
   ]
  },
  {
   "cell_type": "code",
   "execution_count": 42,
   "id": "1f036a28",
   "metadata": {},
   "outputs": [
    {
     "data": {
      "text/html": [
       "<div>\n",
       "<style scoped>\n",
       "    .dataframe tbody tr th:only-of-type {\n",
       "        vertical-align: middle;\n",
       "    }\n",
       "\n",
       "    .dataframe tbody tr th {\n",
       "        vertical-align: top;\n",
       "    }\n",
       "\n",
       "    .dataframe thead th {\n",
       "        text-align: right;\n",
       "    }\n",
       "</style>\n",
       "<table border=\"1\" class=\"dataframe\">\n",
       "  <thead>\n",
       "    <tr style=\"text-align: right;\">\n",
       "      <th></th>\n",
       "      <th>Transaction Cost</th>\n",
       "      <th>Unit Pack Size</th>\n",
       "      <th>Purchase Type</th>\n",
       "      <th>Product Name</th>\n",
       "      <th>Category</th>\n",
       "    </tr>\n",
       "  </thead>\n",
       "  <tbody>\n",
       "    <tr>\n",
       "      <th>2880</th>\n",
       "      <td>41250</td>\n",
       "      <td>500</td>\n",
       "      <td>0</td>\n",
       "      <td>0</td>\n",
       "      <td>0</td>\n",
       "    </tr>\n",
       "    <tr>\n",
       "      <th>163</th>\n",
       "      <td>18635</td>\n",
       "      <td>500</td>\n",
       "      <td>0</td>\n",
       "      <td>1</td>\n",
       "      <td>0</td>\n",
       "    </tr>\n",
       "    <tr>\n",
       "      <th>1933</th>\n",
       "      <td>36500</td>\n",
       "      <td>500</td>\n",
       "      <td>0</td>\n",
       "      <td>0</td>\n",
       "      <td>0</td>\n",
       "    </tr>\n",
       "    <tr>\n",
       "      <th>252</th>\n",
       "      <td>46134</td>\n",
       "      <td>100</td>\n",
       "      <td>1</td>\n",
       "      <td>2</td>\n",
       "      <td>1</td>\n",
       "    </tr>\n",
       "    <tr>\n",
       "      <th>1820</th>\n",
       "      <td>2630</td>\n",
       "      <td>50</td>\n",
       "      <td>0</td>\n",
       "      <td>0</td>\n",
       "      <td>0</td>\n",
       "    </tr>\n",
       "  </tbody>\n",
       "</table>\n",
       "</div>"
      ],
      "text/plain": [
       "      Transaction Cost  Unit Pack Size  Purchase Type  Product Name  Category\n",
       "2880             41250             500              0             0         0\n",
       "163              18635             500              0             1         0\n",
       "1933             36500             500              0             0         0\n",
       "252              46134             100              1             2         1\n",
       "1820              2630              50              0             0         0"
      ]
     },
     "execution_count": 42,
     "metadata": {},
     "output_type": "execute_result"
    }
   ],
   "source": [
    "x_train_fe.head()"
   ]
  },
  {
   "cell_type": "code",
   "execution_count": 50,
   "id": "a08f5d0b",
   "metadata": {},
   "outputs": [],
   "source": [
    "x_train_fe.to_csv('x_train_fe.csv', index=False)"
   ]
  },
  {
   "cell_type": "code",
   "execution_count": 43,
   "id": "160c7dd6",
   "metadata": {},
   "outputs": [],
   "source": [
    "from sklearn.preprocessing import StandardScaler\n",
    "sc = StandardScaler()\n",
    "x_train_sc = sc.fit_transform(x_train_fe)\n",
    "x_test_sc = sc.transform(x_test_fe)"
   ]
  },
  {
   "cell_type": "code",
   "execution_count": 44,
   "id": "fd3b9415",
   "metadata": {},
   "outputs": [],
   "source": [
    "x_train_sc_pas = pd.DataFrame(x_train_sc, columns=ord.get_feature_names_out())\n",
    "x_test_sc_pas= pd.DataFrame(x_test_sc, columns=ord.get_feature_names_out())"
   ]
  },
  {
   "cell_type": "code",
   "execution_count": 45,
   "id": "849d813c",
   "metadata": {},
   "outputs": [
    {
     "data": {
      "text/html": [
       "<div>\n",
       "<style scoped>\n",
       "    .dataframe tbody tr th:only-of-type {\n",
       "        vertical-align: middle;\n",
       "    }\n",
       "\n",
       "    .dataframe tbody tr th {\n",
       "        vertical-align: top;\n",
       "    }\n",
       "\n",
       "    .dataframe thead th {\n",
       "        text-align: right;\n",
       "    }\n",
       "</style>\n",
       "<table border=\"1\" class=\"dataframe\">\n",
       "  <thead>\n",
       "    <tr style=\"text-align: right;\">\n",
       "      <th></th>\n",
       "      <th>Transaction Cost</th>\n",
       "      <th>Unit Pack Size</th>\n",
       "      <th>Purchase Type</th>\n",
       "      <th>Product Name</th>\n",
       "      <th>Category</th>\n",
       "    </tr>\n",
       "  </thead>\n",
       "  <tbody>\n",
       "    <tr>\n",
       "      <th>0</th>\n",
       "      <td>0.344573</td>\n",
       "      <td>0.871459</td>\n",
       "      <td>-0.477489</td>\n",
       "      <td>-0.874246</td>\n",
       "      <td>-0.512873</td>\n",
       "    </tr>\n",
       "    <tr>\n",
       "      <th>1</th>\n",
       "      <td>-0.360753</td>\n",
       "      <td>0.871459</td>\n",
       "      <td>-0.477489</td>\n",
       "      <td>-0.044429</td>\n",
       "      <td>-0.512873</td>\n",
       "    </tr>\n",
       "    <tr>\n",
       "      <th>2</th>\n",
       "      <td>0.196428</td>\n",
       "      <td>0.871459</td>\n",
       "      <td>-0.477489</td>\n",
       "      <td>-0.874246</td>\n",
       "      <td>-0.512873</td>\n",
       "    </tr>\n",
       "    <tr>\n",
       "      <th>3</th>\n",
       "      <td>0.496898</td>\n",
       "      <td>-0.585508</td>\n",
       "      <td>2.094289</td>\n",
       "      <td>0.785388</td>\n",
       "      <td>1.043895</td>\n",
       "    </tr>\n",
       "    <tr>\n",
       "      <th>4</th>\n",
       "      <td>-0.859924</td>\n",
       "      <td>-0.767628</td>\n",
       "      <td>-0.477489</td>\n",
       "      <td>-0.874246</td>\n",
       "      <td>-0.512873</td>\n",
       "    </tr>\n",
       "  </tbody>\n",
       "</table>\n",
       "</div>"
      ],
      "text/plain": [
       "   Transaction Cost  Unit Pack Size  Purchase Type  Product Name  Category\n",
       "0          0.344573        0.871459      -0.477489     -0.874246 -0.512873\n",
       "1         -0.360753        0.871459      -0.477489     -0.044429 -0.512873\n",
       "2          0.196428        0.871459      -0.477489     -0.874246 -0.512873\n",
       "3          0.496898       -0.585508       2.094289      0.785388  1.043895\n",
       "4         -0.859924       -0.767628      -0.477489     -0.874246 -0.512873"
      ]
     },
     "execution_count": 45,
     "metadata": {},
     "output_type": "execute_result"
    }
   ],
   "source": [
    "x_train_sc_pas.head()"
   ]
  },
  {
   "cell_type": "code",
   "execution_count": 46,
   "id": "be7d1b99",
   "metadata": {},
   "outputs": [],
   "source": [
    "from sklearn.cluster import KMeans\n",
    "from sklearn.metrics import silhouette_score\n",
    "import matplotlib.pyplot as plt\n",
    "from mpl_toolkits.mplot3d import Axes3D"
   ]
  },
  {
   "cell_type": "code",
   "execution_count": 47,
   "id": "d861b9cb",
   "metadata": {},
   "outputs": [
    {
     "data": {
      "image/png": "[encoded data removed]",
      "text/plain": [
       "<Figure size 640x480 with 1 Axes>"
      ]
     },
     "metadata": {},
     "output_type": "display_data"
    }
   ],
   "source": [
    "sse = []\n",
    "K = range(1, 11)\n",
    "for k in K:\n",
    "    kmeans = KMeans(n_clusters=k, random_state=42)\n",
    "    kmeans.fit(x_train_sc_pas)\n",
    "    sse.append(kmeans.inertia_)\n",
    "\n",
    "# Plot the Elbow Curve\n",
    "plt.figure()\n",
    "plt.plot(K, sse, marker='o')\n",
    "plt.xlabel('Number of Clusters (k)')\n",
    "plt.ylabel('SSE (Inertia)')\n",
    "plt.title('Elbow Method for Optimal k')\n",
    "plt.grid(True)\n",
    "plt.show()"
   ]
  },
  {
   "cell_type": "code",
   "execution_count": 48,
   "id": "944fb7ff",
   "metadata": {},
   "outputs": [],
   "source": [
    "silhouette_scores = []\n",
    "K = range(2, 10)\n",
    "for k in K:\n",
    "    kmeans = KMeans(n_clusters=k, random_state=42)\n",
    "    labels = kmeans.fit_predict(x_train_sc_pas)\n",
    "    silhouette_scores.append(silhouette_score(x_train_sc_pas, labels))"
   ]
  },
  {
   "cell_type": "code",
   "execution_count": 49,
   "id": "bbbe41b6",
   "metadata": {},
   "outputs": [
    {
     "data": {
      "text/plain": [
       "[0.3625274746275541,\n",
       " 0.31865637918686257,\n",
       " 0.3812375855566299,\n",
       " 0.3829368233113794,\n",
       " 0.34043575439718793,\n",
       " 0.40283449434953456,\n",
       " 0.41627842685902283,\n",
       " 0.4105282298133355]"
      ]
     },
     "execution_count": 49,
     "metadata": {},
     "output_type": "execute_result"
    }
   ],
   "source": [
    "silhouette_scores"
   ]
  },
  {
   "cell_type": "markdown",
   "id": "5cc8522f",
   "metadata": {},
   "source": [
    "### PICKLING"
   ]
  },
  {
   "cell_type": "code",
   "execution_count": 51,
   "id": "d7a15e6d",
   "metadata": {},
   "outputs": [],
   "source": [
    "import pickle"
   ]
  },
  {
   "cell_type": "code",
   "execution_count": 52,
   "id": "47fae53d",
   "metadata": {},
   "outputs": [],
   "source": [
    "import pickle\n",
    "\n",
    "# Save these 3 objects\n",
    "with open('scaler.pkl', 'wb') as f:\n",
    "    pickle.dump(sc, f)\n",
    "\n",
    "with open('encoder.pkl', 'wb') as f:\n",
    "    pickle.dump(ord, f)\n",
    "\n",
    "with open('kmeans_model.pkl', 'wb') as f:\n",
    "    pickle.dump(kmeans, f)\n"
   ]
  },
  {
   "cell_type": "markdown",
   "id": "b4d00f23",
   "metadata": {},
   "source": [
    "import pickle"
   ]
  },
  {
   "cell_type": "code",
   "execution_count": 53,
   "id": "446fb87d",
   "metadata": {},
   "outputs": [
    {
     "name": "stdout",
     "output_type": "stream",
     "text": [
      "✅ Database created as 'customers.db'\n"
     ]
    }
   ],
   "source": [
    "import pandas as pd\n",
    "from sqlalchemy import create_engine\n",
    "\n",
    "# Load your CSV file\n",
    "df = pd.read_excel('final_data.xlsx')  # Make sure this file is in your current directory\n",
    "\n",
    "# Create SQLite engine\n",
    "engine = create_engine(\"sqlite:///customers.db\")\n",
    "\n",
    "# Save the DataFrame to a table named 'customers'\n",
    "df.to_sql(\"customers\", con=engine, index=False, if_exists=\"replace\")\n",
    "\n",
    "print(\"✅ Database created as 'customers.db'\")\n"
   ]
  },
  {
   "cell_type": "code",
   "execution_count": null,
   "id": "62851b20",
   "metadata": {},
   "outputs": [],
   "source": []
  }
 ],
 "metadata": {
  "kernelspec": {
   "display_name": "mlflow",
   "language": "python",
   "name": "python3"
  },
  "language_info": {
   "codemirror_mode": {
    "name": "ipython",
    "version": 3
   },
   "file_extension": ".py",
   "mimetype": "text/x-python",
   "name": "python",
   "nbconvert_exporter": "python",
   "pygments_lexer": "ipython3",
   "version": "3.12.5"
  }
 },
 "nbformat": 4,
 "nbformat_minor": 5
}
